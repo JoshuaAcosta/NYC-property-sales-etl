{
 "cells": [
  {
   "cell_type": "code",
   "execution_count": 4,
   "metadata": {},
   "outputs": [
    {
     "name": "stdout",
     "output_type": "stream",
     "text": [
      "The dotenv extension is already loaded. To reload it, use:\n",
      "  %reload_ext dotenv\n"
     ]
    }
   ],
   "source": [
    "import os\n",
    "from pathlib import Path, PurePath\n",
    "import requests\n",
    "import numpy as np\n",
    "import pandas as pd\n",
    "pd.set_option('max_columns', 50)\n",
    "pd.set_option('max_rows', 9999)\n",
    "from bs4 import BeautifulSoup\n",
    "%load_ext dotenv\n",
    "%dotenv"
   ]
  },
  {
   "cell_type": "markdown",
   "metadata": {},
   "source": [
    "## Download data from NYC's Dept of Finance website"
   ]
  },
  {
   "cell_type": "code",
   "execution_count": 5,
   "metadata": {},
   "outputs": [],
   "source": [
    "def get_sales_links(url, skip_table):\n",
    "    \"\"\"\n",
    "    Get links to excel spreadsheets by year (from 2003 to 2021) and \n",
    "    borough from NYC Department of Finance website.\n",
    "    Two seperate lists are created due to the change in which row\n",
    "    column headers begin after 2010.\n",
    "    \"\"\"\n",
    "    try:\n",
    "        website_text = requests.get(url).text\n",
    "        soup = BeautifulSoup(website_text)\n",
    "        tables = soup.find_all('table')\n",
    "        \n",
    "        links = [each_link['href']\n",
    "                for each_table in tables[skip_table:]\n",
    "                for each_link in each_table.select(\"a[href*='.xls']\")]\n",
    "\n",
    "        list_of_urls = [\"https://www1.nyc.gov\" + each for each in links]\n",
    "\n",
    "    except requests.RequestException as exception:\n",
    "        return exception\n",
    "\n",
    "    return list_of_urls\n",
    "\n",
    "def check_for_directory(dirname):\n",
    "    \"\"\"\n",
    "    Check the parent directory for a directory.\n",
    "    One is created if it doesn't exist to stage files\n",
    "    \"\"\"\n",
    "    parent_dir = Path(os.getenv(\"PARENT_DIR\"))\n",
    "    join_dirs = parent_dir.joinpath(dirname)\n",
    "    if not Path.is_dir(join_dirs):\n",
    "        Path.mkdir(join_dirs)\n"
   ]
  },
  {
   "cell_type": "code",
   "execution_count": 6,
   "metadata": {},
   "outputs": [],
   "source": [
    "#Downloading rolling sales data for 2003 through 2021\n",
    "\n",
    "parent_dir = Path(os.getenv(\"PARENT_DIR\"))\n",
    "data_path = parent_dir.joinpath('data')\n",
    "raw_path = data_path.joinpath(\"raw\")\n",
    "stage_path = data_path.joinpath(\"stage\")\n",
    "production_path = data_path.joinpath(\"production\")\n",
    "\n",
    "check_for_directory(data_path)\n",
    "check_for_directory(raw_path)\n",
    "check_for_directory(production_path)\n",
    "\n",
    "SALES_URL = \"https://www1.nyc.gov/site/finance/taxes/property-annualized-sales-update.page\"        \n",
    "url_links = get_sales_links(SALES_URL, 1)\n",
    "\n",
    "for each_link in url_links:\n",
    "    response = requests.get(each_link)\n",
    "    filename = PurePath(each_link).name\n",
    "    filepath = raw_path.joinpath(filename)\n",
    "    with open(filepath, mode='wb') as f:\n",
    "        f.write(response.content)"
   ]
  },
  {
   "cell_type": "code",
   "execution_count": 7,
   "metadata": {},
   "outputs": [],
   "source": [
    "#Downloading rolling sales data for 2022\n",
    "\n",
    "SALES_URL_2022 = \"https://www.nyc.gov/site/finance/taxes/property-rolling-sales-data.page\"\n",
    "\n",
    "\n",
    "url_2022_links = get_sales_links(SALES_URL_2022, 0)\n",
    "\n",
    "for each_2022_link in url_2022_links:\n",
    "    response = requests.get(each_2022_link)\n",
    "    filename = PurePath(each_2022_link).name\n",
    "    filepath = raw_path.joinpath(filename)\n",
    "    with open(filepath, mode='wb') as f:\n",
    "        f.write(response.content)"
   ]
  },
  {
   "cell_type": "code",
   "execution_count": 8,
   "metadata": {},
   "outputs": [
    {
     "name": "stdout",
     "output_type": "stream",
     "text": [
      "/Users/joshuaacosta/documents/nyc_sales/data/raw/2009_bronx.xls\n",
      "/Users/joshuaacosta/documents/nyc_sales/data/raw/2009_brooklyn.xls\n",
      "/Users/joshuaacosta/documents/nyc_sales/data/raw/2009_manhattan.xls\n",
      "/Users/joshuaacosta/documents/nyc_sales/data/raw/2009_queens.xls\n",
      "/Users/joshuaacosta/documents/nyc_sales/data/raw/2009_statenisland.xls\n",
      "/Users/joshuaacosta/documents/nyc_sales/data/raw/2010_bronx.xls\n",
      "/Users/joshuaacosta/documents/nyc_sales/data/raw/2010_brooklyn.xls\n",
      "/Users/joshuaacosta/documents/nyc_sales/data/raw/2010_manhattan.xls\n",
      "/Users/joshuaacosta/documents/nyc_sales/data/raw/2010_queens.xls\n",
      "/Users/joshuaacosta/documents/nyc_sales/data/raw/2010_statenisland.xls\n",
      "/Users/joshuaacosta/documents/nyc_sales/data/raw/2011_bronx.xls\n",
      "/Users/joshuaacosta/documents/nyc_sales/data/raw/2011_brooklyn.xls\n",
      "/Users/joshuaacosta/documents/nyc_sales/data/raw/2011_manhattan.xls\n",
      "/Users/joshuaacosta/documents/nyc_sales/data/raw/2011_queens.xls\n",
      "/Users/joshuaacosta/documents/nyc_sales/data/raw/2011_statenisland.xls\n",
      "/Users/joshuaacosta/documents/nyc_sales/data/raw/2012_bronx.xls\n",
      "/Users/joshuaacosta/documents/nyc_sales/data/raw/2012_brooklyn.xls\n",
      "/Users/joshuaacosta/documents/nyc_sales/data/raw/2012_manhattan.xls\n",
      "/Users/joshuaacosta/documents/nyc_sales/data/raw/2012_queens.xls\n",
      "/Users/joshuaacosta/documents/nyc_sales/data/raw/2012_statenisland.xls\n",
      "/Users/joshuaacosta/documents/nyc_sales/data/raw/2013_bronx.xls\n",
      "/Users/joshuaacosta/documents/nyc_sales/data/raw/2013_brooklyn.xls\n",
      "/Users/joshuaacosta/documents/nyc_sales/data/raw/2013_manhattan.xls\n",
      "/Users/joshuaacosta/documents/nyc_sales/data/raw/2013_queens.xls\n",
      "/Users/joshuaacosta/documents/nyc_sales/data/raw/2013_statenisland.xls\n",
      "/Users/joshuaacosta/documents/nyc_sales/data/raw/2014_bronx.xls\n",
      "/Users/joshuaacosta/documents/nyc_sales/data/raw/2014_brooklyn.xls\n",
      "/Users/joshuaacosta/documents/nyc_sales/data/raw/2014_manhattan.xls\n",
      "/Users/joshuaacosta/documents/nyc_sales/data/raw/2014_queens.xls\n",
      "/Users/joshuaacosta/documents/nyc_sales/data/raw/2014_statenisland.xls\n",
      "/Users/joshuaacosta/documents/nyc_sales/data/raw/2015_bronx.xls\n",
      "/Users/joshuaacosta/documents/nyc_sales/data/raw/2015_brooklyn.xls\n",
      "/Users/joshuaacosta/documents/nyc_sales/data/raw/2015_manhattan.xls\n",
      "/Users/joshuaacosta/documents/nyc_sales/data/raw/2015_queens.xls\n",
      "/Users/joshuaacosta/documents/nyc_sales/data/raw/2015_statenisland.xls\n",
      "/Users/joshuaacosta/documents/nyc_sales/data/raw/2016_bronx.xls\n",
      "/Users/joshuaacosta/documents/nyc_sales/data/raw/2016_brooklyn.xls\n",
      "/Users/joshuaacosta/documents/nyc_sales/data/raw/2016_manhattan.xls\n",
      "/Users/joshuaacosta/documents/nyc_sales/data/raw/2016_queens.xls\n",
      "/Users/joshuaacosta/documents/nyc_sales/data/raw/2016_statenisland.xls\n",
      "/Users/joshuaacosta/documents/nyc_sales/data/raw/2017_bronx.xls\n",
      "/Users/joshuaacosta/documents/nyc_sales/data/raw/2017_brooklyn.xls\n",
      "/Users/joshuaacosta/documents/nyc_sales/data/raw/2017_manhattan.xls\n",
      "/Users/joshuaacosta/documents/nyc_sales/data/raw/2017_queens.xls\n",
      "/Users/joshuaacosta/documents/nyc_sales/data/raw/2017_statenisland.xls\n",
      "/Users/joshuaacosta/documents/nyc_sales/data/raw/2018_bronx.xlsx\n",
      "/Users/joshuaacosta/documents/nyc_sales/data/raw/2018_brooklyn.xlsx\n",
      "/Users/joshuaacosta/documents/nyc_sales/data/raw/2018_manhattan.xlsx\n",
      "/Users/joshuaacosta/documents/nyc_sales/data/raw/2018_queens.xlsx\n",
      "/Users/joshuaacosta/documents/nyc_sales/data/raw/2018_statenisland.xlsx\n",
      "/Users/joshuaacosta/documents/nyc_sales/data/raw/2019_bronx.xlsx\n",
      "/Users/joshuaacosta/documents/nyc_sales/data/raw/2019_brooklyn.xlsx\n",
      "/Users/joshuaacosta/documents/nyc_sales/data/raw/2019_manhattan.xlsx\n",
      "/Users/joshuaacosta/documents/nyc_sales/data/raw/2019_queens.xlsx\n",
      "/Users/joshuaacosta/documents/nyc_sales/data/raw/2019_statenisland.xlsx\n",
      "/Users/joshuaacosta/documents/nyc_sales/data/raw/2020_bronx.xlsx\n",
      "/Users/joshuaacosta/documents/nyc_sales/data/raw/2020_brooklyn.xlsx\n",
      "/Users/joshuaacosta/documents/nyc_sales/data/raw/2020_manhattan.xlsx\n",
      "/Users/joshuaacosta/documents/nyc_sales/data/raw/2020_queens.xlsx\n",
      "/Users/joshuaacosta/documents/nyc_sales/data/raw/2020_staten_island.xlsx\n",
      "/Users/joshuaacosta/documents/nyc_sales/data/raw/2021_bronx.xlsx\n",
      "/Users/joshuaacosta/documents/nyc_sales/data/raw/2021_brooklyn.xlsx\n",
      "/Users/joshuaacosta/documents/nyc_sales/data/raw/2021_manhattan.xlsx\n",
      "/Users/joshuaacosta/documents/nyc_sales/data/raw/2021_queens.xlsx\n",
      "/Users/joshuaacosta/documents/nyc_sales/data/raw/2021_staten_island.xlsx\n",
      "/Users/joshuaacosta/documents/nyc_sales/data/raw/rollingsales_bronx.xlsx\n",
      "/Users/joshuaacosta/documents/nyc_sales/data/raw/rollingsales_brooklyn.xlsx\n",
      "/Users/joshuaacosta/documents/nyc_sales/data/raw/rollingsales_manhattan.xlsx\n",
      "/Users/joshuaacosta/documents/nyc_sales/data/raw/rollingsales_queens.xlsx\n",
      "/Users/joshuaacosta/documents/nyc_sales/data/raw/rollingsales_statenisland.xlsx\n",
      "/Users/joshuaacosta/documents/nyc_sales/data/raw/sales_2007_bronx.xls\n",
      "/Users/joshuaacosta/documents/nyc_sales/data/raw/sales_2007_brooklyn.xls\n",
      "/Users/joshuaacosta/documents/nyc_sales/data/raw/sales_2007_manhattan.xls\n",
      "/Users/joshuaacosta/documents/nyc_sales/data/raw/sales_2007_queens.xls\n",
      "/Users/joshuaacosta/documents/nyc_sales/data/raw/sales_2007_statenisland.xls\n",
      "/Users/joshuaacosta/documents/nyc_sales/data/raw/sales_2008_bronx.xls\n",
      "/Users/joshuaacosta/documents/nyc_sales/data/raw/sales_2008_brooklyn.xls\n",
      "/Users/joshuaacosta/documents/nyc_sales/data/raw/sales_2008_manhattan.xls\n",
      "/Users/joshuaacosta/documents/nyc_sales/data/raw/sales_2008_queens.xls\n",
      "/Users/joshuaacosta/documents/nyc_sales/data/raw/sales_2008_statenisland.xls\n",
      "/Users/joshuaacosta/documents/nyc_sales/data/raw/sales_bronx_03.xls\n",
      "/Users/joshuaacosta/documents/nyc_sales/data/raw/sales_bronx_04.xls\n",
      "/Users/joshuaacosta/documents/nyc_sales/data/raw/sales_bronx_05.xls\n",
      "/Users/joshuaacosta/documents/nyc_sales/data/raw/sales_bronx_06.xls\n",
      "/Users/joshuaacosta/documents/nyc_sales/data/raw/sales_brooklyn_03.xls\n",
      "/Users/joshuaacosta/documents/nyc_sales/data/raw/sales_brooklyn_04.xls\n",
      "/Users/joshuaacosta/documents/nyc_sales/data/raw/sales_brooklyn_05.xls\n",
      "/Users/joshuaacosta/documents/nyc_sales/data/raw/sales_brooklyn_06.xls\n",
      "/Users/joshuaacosta/documents/nyc_sales/data/raw/sales_manhattan_03.xls\n",
      "/Users/joshuaacosta/documents/nyc_sales/data/raw/sales_manhattan_04.xls\n",
      "/Users/joshuaacosta/documents/nyc_sales/data/raw/sales_manhattan_05.xls\n",
      "/Users/joshuaacosta/documents/nyc_sales/data/raw/sales_manhattan_06.xls\n",
      "/Users/joshuaacosta/documents/nyc_sales/data/raw/sales_queens_03.xls\n",
      "/Users/joshuaacosta/documents/nyc_sales/data/raw/sales_queens_04.xls\n",
      "/Users/joshuaacosta/documents/nyc_sales/data/raw/sales_queens_05.xls\n",
      "/Users/joshuaacosta/documents/nyc_sales/data/raw/sales_queens_06.xls\n",
      "/Users/joshuaacosta/documents/nyc_sales/data/raw/sales_si_03.xls\n",
      "/Users/joshuaacosta/documents/nyc_sales/data/raw/sales_si_04.xls\n",
      "/Users/joshuaacosta/documents/nyc_sales/data/raw/sales_si_05.xls\n",
      "/Users/joshuaacosta/documents/nyc_sales/data/raw/sales_si_06.xls\n"
     ]
    }
   ],
   "source": [
    "# List out all files to batch them into groups\n",
    "filenames = os.listdir(raw_path)\n",
    "filenames.sort()\n",
    "filenames = [str(raw_path) + \"/\" + str(filename) for filename in filenames]\n",
    "print('\\n'.join(filenames))\n"
   ]
  },
  {
   "cell_type": "code",
   "execution_count": 9,
   "metadata": {},
   "outputs": [],
   "source": [
    "# Batching spreadsheets by number of top line rows that should be skipped\n",
    "\n",
    "all2022_sales = [\"/Users/joshuaacosta/documents/nyc_sales/data/raw/rollingsales_bronx.xlsx\",\n",
    "                 \"/Users/joshuaacosta/documents/nyc_sales/data/raw/rollingsales_brooklyn.xlsx\",\n",
    "                 \"/Users/joshuaacosta/documents/nyc_sales/data/raw/rollingsales_manhattan.xlsx\",\n",
    "                 \"/Users/joshuaacosta/documents/nyc_sales/data/raw/rollingsales_queens.xlsx\",\n",
    "                 \"/Users/joshuaacosta/documents/nyc_sales/data/raw/rollingsales_statenisland.xlsx\"]\n",
    "\n",
    "all2003_2010_sales = [\"/Users/joshuaacosta/documents/nyc_sales/data/raw/sales_2007_bronx.xls\",\n",
    "                      \"/Users/joshuaacosta/documents/nyc_sales/data/raw/sales_2007_brooklyn.xls\",\n",
    "                      \"/Users/joshuaacosta/documents/nyc_sales/data/raw/sales_2007_manhattan.xls\",\n",
    "                      \"/Users/joshuaacosta/documents/nyc_sales/data/raw/sales_2007_queens.xls\",\n",
    "                      \"/Users/joshuaacosta/documents/nyc_sales/data/raw/sales_2007_statenisland.xls\",\n",
    "                      \"/Users/joshuaacosta/documents/nyc_sales/data/raw/sales_2008_bronx.xls\",\n",
    "                      \"/Users/joshuaacosta/documents/nyc_sales/data/raw/sales_2008_brooklyn.xls\",\n",
    "                      \"/Users/joshuaacosta/documents/nyc_sales/data/raw/sales_2008_manhattan.xls\",\n",
    "                      \"/Users/joshuaacosta/documents/nyc_sales/data/raw/sales_2008_queens.xls\",\n",
    "                      \"/Users/joshuaacosta/documents/nyc_sales/data/raw/sales_2008_statenisland.xls\",\n",
    "                      \"/Users/joshuaacosta/documents/nyc_sales/data/raw/sales_bronx_03.xls\",\n",
    "                      \"/Users/joshuaacosta/documents/nyc_sales/data/raw/sales_bronx_04.xls\",\n",
    "                      \"/Users/joshuaacosta/documents/nyc_sales/data/raw/sales_bronx_05.xls\",\n",
    "                      \"/Users/joshuaacosta/documents/nyc_sales/data/raw/sales_bronx_06.xls\",\n",
    "                      \"/Users/joshuaacosta/documents/nyc_sales/data/raw/sales_brooklyn_03.xls\",\n",
    "                      \"/Users/joshuaacosta/documents/nyc_sales/data/raw/sales_brooklyn_04.xls\",\n",
    "                      \"/Users/joshuaacosta/documents/nyc_sales/data/raw/sales_brooklyn_05.xls\",\n",
    "                      \"/Users/joshuaacosta/documents/nyc_sales/data/raw/sales_brooklyn_06.xls\",\n",
    "                      \"/Users/joshuaacosta/documents/nyc_sales/data/raw/sales_manhattan_03.xls\",\n",
    "                      \"/Users/joshuaacosta/documents/nyc_sales/data/raw/sales_manhattan_04.xls\",\n",
    "                      \"/Users/joshuaacosta/documents/nyc_sales/data/raw/sales_manhattan_05.xls\",\n",
    "                      \"/Users/joshuaacosta/documents/nyc_sales/data/raw/sales_manhattan_06.xls\",\n",
    "                      \"/Users/joshuaacosta/documents/nyc_sales/data/raw/sales_queens_03.xls\",\n",
    "                      \"/Users/joshuaacosta/documents/nyc_sales/data/raw/sales_queens_04.xls\",\n",
    "                      \"/Users/joshuaacosta/documents/nyc_sales/data/raw/sales_queens_05.xls\",\n",
    "                      \"/Users/joshuaacosta/documents/nyc_sales/data/raw/sales_queens_06.xls\",\n",
    "                      \"/Users/joshuaacosta/documents/nyc_sales/data/raw/sales_si_03.xls\",\n",
    "                      \"/Users/joshuaacosta/documents/nyc_sales/data/raw/sales_si_04.xls\",\n",
    "                      \"/Users/joshuaacosta/documents/nyc_sales/data/raw/sales_si_05.xls\",\n",
    "                      \"/Users/joshuaacosta/documents/nyc_sales/data/raw/sales_si_06.xls\",\n",
    "                      \"/Users/joshuaacosta/documents/nyc_sales/data/raw/2009_bronx.xls\",\n",
    "                      \"/Users/joshuaacosta/documents/nyc_sales/data/raw/2009_brooklyn.xls\",\n",
    "                      \"/Users/joshuaacosta/documents/nyc_sales/data/raw/2009_manhattan.xls\",\n",
    "                      \"/Users/joshuaacosta/documents/nyc_sales/data/raw/2009_queens.xls\",\n",
    "                      \"/Users/joshuaacosta/documents/nyc_sales/data/raw/2009_statenisland.xls\",\n",
    "                      \"/Users/joshuaacosta/documents/nyc_sales/data/raw/2010_bronx.xls\",\n",
    "                      \"/Users/joshuaacosta/documents/nyc_sales/data/raw/2010_brooklyn.xls\",\n",
    "                      \"/Users/joshuaacosta/documents/nyc_sales/data/raw/2010_manhattan.xls\",\n",
    "                      \"/Users/joshuaacosta/documents/nyc_sales/data/raw/2010_queens.xls\",\n",
    "                      \"/Users/joshuaacosta/documents/nyc_sales/data/raw/2010_statenisland.xls\"]\n",
    "\n",
    "all2011_2019_sales = [\"/Users/joshuaacosta/documents/nyc_sales/data/raw/2011_bronx.xls\",\n",
    "                      \"/Users/joshuaacosta/documents/nyc_sales/data/raw/2011_brooklyn.xls\",\n",
    "                      \"/Users/joshuaacosta/documents/nyc_sales/data/raw/2011_manhattan.xls\",\n",
    "                      \"/Users/joshuaacosta/documents/nyc_sales/data/raw/2011_queens.xls\",\n",
    "                      \"/Users/joshuaacosta/documents/nyc_sales/data/raw/2011_statenisland.xls\",\n",
    "                      \"/Users/joshuaacosta/documents/nyc_sales/data/raw/2012_bronx.xls\",\n",
    "                      \"/Users/joshuaacosta/documents/nyc_sales/data/raw/2012_brooklyn.xls\",\n",
    "                      \"/Users/joshuaacosta/documents/nyc_sales/data/raw/2012_manhattan.xls\",\n",
    "                      \"/Users/joshuaacosta/documents/nyc_sales/data/raw/2012_queens.xls\",\n",
    "                      \"/Users/joshuaacosta/documents/nyc_sales/data/raw/2012_statenisland.xls\",\n",
    "                      \"/Users/joshuaacosta/documents/nyc_sales/data/raw/2013_bronx.xls\",\n",
    "                      \"/Users/joshuaacosta/documents/nyc_sales/data/raw/2013_brooklyn.xls\",\n",
    "                      \"/Users/joshuaacosta/documents/nyc_sales/data/raw/2013_manhattan.xls\",\n",
    "                      \"/Users/joshuaacosta/documents/nyc_sales/data/raw/2013_queens.xls\",\n",
    "                      \"/Users/joshuaacosta/documents/nyc_sales/data/raw/2013_statenisland.xls\",\n",
    "                      \"/Users/joshuaacosta/documents/nyc_sales/data/raw/2014_bronx.xls\",\n",
    "                      \"/Users/joshuaacosta/documents/nyc_sales/data/raw/2014_brooklyn.xls\",\n",
    "                      \"/Users/joshuaacosta/documents/nyc_sales/data/raw/2014_manhattan.xls\",\n",
    "                      \"/Users/joshuaacosta/documents/nyc_sales/data/raw/2014_queens.xls\",\n",
    "                      \"/Users/joshuaacosta/documents/nyc_sales/data/raw/2014_statenisland.xls\",\n",
    "                      \"/Users/joshuaacosta/documents/nyc_sales/data/raw/2015_bronx.xls\",\n",
    "                      \"/Users/joshuaacosta/documents/nyc_sales/data/raw/2015_brooklyn.xls\",\n",
    "                      \"/Users/joshuaacosta/documents/nyc_sales/data/raw/2015_manhattan.xls\",\n",
    "                      \"/Users/joshuaacosta/documents/nyc_sales/data/raw/2015_queens.xls\",\n",
    "                      \"/Users/joshuaacosta/documents/nyc_sales/data/raw/2015_statenisland.xls\",\n",
    "                      \"/Users/joshuaacosta/documents/nyc_sales/data/raw/2016_bronx.xls\",\n",
    "                      \"/Users/joshuaacosta/documents/nyc_sales/data/raw/2016_brooklyn.xls\",\n",
    "                      \"/Users/joshuaacosta/documents/nyc_sales/data/raw/2016_manhattan.xls\",\n",
    "                      \"/Users/joshuaacosta/documents/nyc_sales/data/raw/2016_queens.xls\",\n",
    "                      \"/Users/joshuaacosta/documents/nyc_sales/data/raw/2016_statenisland.xls\",\n",
    "                      \"/Users/joshuaacosta/documents/nyc_sales/data/raw/2017_bronx.xls\",\n",
    "                      \"/Users/joshuaacosta/documents/nyc_sales/data/raw/2017_brooklyn.xls\",\n",
    "                      \"/Users/joshuaacosta/documents/nyc_sales/data/raw/2017_manhattan.xls\",\n",
    "                      \"/Users/joshuaacosta/documents/nyc_sales/data/raw/2017_queens.xls\",\n",
    "                      \"/Users/joshuaacosta/documents/nyc_sales/data/raw/2017_statenisland.xls\",\n",
    "                      \"/Users/joshuaacosta/documents/nyc_sales/data/raw/2018_bronx.xlsx\",\n",
    "                      \"/Users/joshuaacosta/documents/nyc_sales/data/raw/2018_brooklyn.xlsx\",\n",
    "                      \"/Users/joshuaacosta/documents/nyc_sales/data/raw/2018_manhattan.xlsx\",\n",
    "                      \"/Users/joshuaacosta/documents/nyc_sales/data/raw/2018_queens.xlsx\",\n",
    "                      \"/Users/joshuaacosta/documents/nyc_sales/data/raw/2018_statenisland.xlsx\",\n",
    "                      \"/Users/joshuaacosta/documents/nyc_sales/data/raw/2019_bronx.xlsx\",\n",
    "                      \"/Users/joshuaacosta/documents/nyc_sales/data/raw/2019_brooklyn.xlsx\",\n",
    "                      \"/Users/joshuaacosta/documents/nyc_sales/data/raw/2019_manhattan.xlsx\",\n",
    "                      \"/Users/joshuaacosta/documents/nyc_sales/data/raw/2019_queens.xlsx\",\n",
    "                      \"/Users/joshuaacosta/documents/nyc_sales/data/raw/2019_statenisland.xlsx\"]\n",
    "\n",
    "all2020_2021_sales = [\"/Users/joshuaacosta/documents/nyc_sales/data/raw/2020_bronx.xlsx\",\n",
    "                      \"/Users/joshuaacosta/documents/nyc_sales/data/raw/2020_brooklyn.xlsx\",\n",
    "                      \"/Users/joshuaacosta/documents/nyc_sales/data/raw/2020_manhattan.xlsx\",\n",
    "                      \"/Users/joshuaacosta/documents/nyc_sales/data/raw/2020_queens.xlsx\",\n",
    "                      \"/Users/joshuaacosta/documents/nyc_sales/data/raw/2020_staten_island.xlsx\",\n",
    "                      \"/Users/joshuaacosta/documents/nyc_sales/data/raw/2021_bronx.xlsx\",\n",
    "                      \"/Users/joshuaacosta/documents/nyc_sales/data/raw/2021_brooklyn.xlsx\",\n",
    "                      \"/Users/joshuaacosta/documents/nyc_sales/data/raw/2021_manhattan.xlsx\",\n",
    "                      \"/Users/joshuaacosta/documents/nyc_sales/data/raw/2021_queens.xlsx\",\n",
    "                      \"/Users/joshuaacosta/documents/nyc_sales/data/raw/2021_staten_island.xlsx\"]"
   ]
  },
  {
   "cell_type": "markdown",
   "metadata": {},
   "source": [
    "## Reading files into pandas"
   ]
  },
  {
   "cell_type": "code",
   "execution_count": 10,
   "metadata": {},
   "outputs": [],
   "source": [
    "def read_excel_data(list_of_filenames, skip_rows_num):\n",
    "    \"\"\"\n",
    "    Creates a list of dataframes, one df per spreadsheet, and then concats them into\n",
    "    one combined dataframe. For each spreadsheet, columns desired are specified.\n",
    "    Tax related columns and those with mostly null values are not added.\n",
    "    Numeber of rows to skip for each df is specific due to change made by NY DOF \n",
    "    after 2010.\n",
    "    \"\"\"\n",
    "    \n",
    "    use_col_names = [\"BOROUGH\", \"NEIGHBORHOOD\",\"BUILDING CLASS CATEGORY\", \n",
    "                     \"TAX CLASS AS OF FINAL ROLL\", \"BLOCK\", \"LOT\", \"EASEMENT\",\n",
    "                     \"BUILDING CLASS AS OF FINAL ROLL\", \"ADDRESS\", \"APARTMENT NUMBER\", \n",
    "                     \"ZIP CODE\",\"RESIDENTIAL UNITS\", \"COMMERCIAL UNITS\", \"TOTAL UNITS\",\n",
    "                     \"LAND SQUARE FEET\", \"GROSS SQUARE FEET\", \"YEAR BUILT\",\n",
    "                     \"TAX CLASS AT TIME OF SALE\",\n",
    "                     \"BUILDING CLASS AT TIME OF SALE\",\n",
    "                     \"SALE PRICE\", \"SALE DATE\"]\n",
    "\n",
    "    list_of_dfs = [pd.read_excel(filename, skiprows=skip_rows_num,\n",
    "                   dtype=str, names=use_col_names) for filename in list_of_filenames]\n",
    "\n",
    "    dataframe = pd.concat(list_of_dfs, ignore_index=True, sort=False)\n",
    "\n",
    "    return dataframe"
   ]
  },
  {
   "cell_type": "code",
   "execution_count": 11,
   "metadata": {},
   "outputs": [],
   "source": [
    "#Reading sales data in Pandas\n",
    "\n",
    "sales_2011_2019_df = read_excel_data(all2011_2019_sales, 4)\n",
    "sales_2003_2010_df = read_excel_data(all2003_2010_sales, 3)\n",
    "sales_2020_2021_df = read_excel_data(all2020_2021_sales, 6)\n",
    "sales_2022_df = read_excel_data(all2022_sales, 4)\n",
    "\n",
    "combined_df = pd.concat([sales_2011_2019_df, sales_2003_2010_df,\n",
    "                         sales_2020_2021_df, sales_2022_df],\n",
    "                        ignore_index=True, sort=False)"
   ]
  },
  {
   "cell_type": "code",
   "execution_count": 12,
   "metadata": {},
   "outputs": [
    {
     "data": {
      "text/plain": [
       "(1855333, 21)"
      ]
     },
     "execution_count": 12,
     "metadata": {},
     "output_type": "execute_result"
    }
   ],
   "source": [
    "combined_df.shape"
   ]
  },
  {
   "cell_type": "code",
   "execution_count": 13,
   "metadata": {},
   "outputs": [],
   "source": [
    "#Save dataframe combining all spreadsheets into a csv in stage directory\n",
    "combined_df.to_csv((str(stage_path) + \"/\" + \"combined_all_sales.csv\"), index=False, header=True)"
   ]
  },
  {
   "cell_type": "markdown",
   "metadata": {},
   "source": [
    "## Cleaning Sales Data"
   ]
  },
  {
   "cell_type": "code",
   "execution_count": 14,
   "metadata": {},
   "outputs": [
    {
     "data": {
      "text/plain": [
       "(1855333, 21)"
      ]
     },
     "execution_count": 14,
     "metadata": {},
     "output_type": "execute_result"
    }
   ],
   "source": [
    "#Read unclean csv file\n",
    "all_sales_csv = str(stage_path) + \"/\" + \"combined_all_sales.csv\"\n",
    "\n",
    "sales_df = pd.read_csv(all_sales_csv, skipinitialspace=True, low_memory=False)\n",
    "\n",
    "sales_df.shape"
   ]
  },
  {
   "cell_type": "code",
   "execution_count": 15,
   "metadata": {},
   "outputs": [
    {
     "name": "stdout",
     "output_type": "stream",
     "text": [
      "<class 'pandas.core.frame.DataFrame'>\n",
      "RangeIndex: 1855333 entries, 0 to 1855332\n",
      "Data columns (total 21 columns):\n",
      " #   Column                           Dtype  \n",
      "---  ------                           -----  \n",
      " 0   BOROUGH                          float64\n",
      " 1   NEIGHBORHOOD                     object \n",
      " 2   BUILDING CLASS CATEGORY          object \n",
      " 3   TAX CLASS AS OF FINAL ROLL       object \n",
      " 4   BLOCK                            float64\n",
      " 5   LOT                              float64\n",
      " 6   EASEMENT                         object \n",
      " 7   BUILDING CLASS AS OF FINAL ROLL  object \n",
      " 8   ADDRESS                          object \n",
      " 9   APARTMENT NUMBER                 object \n",
      " 10  ZIP CODE                         float64\n",
      " 11  RESIDENTIAL UNITS                float64\n",
      " 12  COMMERCIAL UNITS                 float64\n",
      " 13  TOTAL UNITS                      float64\n",
      " 14  LAND SQUARE FEET                 float64\n",
      " 15  GROSS SQUARE FEET                float64\n",
      " 16  YEAR BUILT                       float64\n",
      " 17  TAX CLASS AT TIME OF SALE        float64\n",
      " 18  BUILDING CLASS AT TIME OF SALE   object \n",
      " 19  SALE PRICE                       float64\n",
      " 20  SALE DATE                        object \n",
      "dtypes: float64(12), object(9)\n",
      "memory usage: 1.2 GB\n"
     ]
    }
   ],
   "source": [
    "sales_df.info(memory_usage=\"deep\")"
   ]
  },
  {
   "cell_type": "code",
   "execution_count": 16,
   "metadata": {},
   "outputs": [
    {
     "data": {
      "text/plain": [
       "(1855333, 21)"
      ]
     },
     "execution_count": 16,
     "metadata": {},
     "output_type": "execute_result"
    }
   ],
   "source": [
    "#Drop duplicate rows if any\n",
    "\n",
    "sales_df.drop_duplicates()\n",
    "sales_df.shape"
   ]
  },
  {
   "cell_type": "code",
   "execution_count": 17,
   "metadata": {},
   "outputs": [
    {
     "data": {
      "text/plain": [
       "Index(['borough', 'neighborhood', 'building_class_category',\n",
       "       'tax_class_as_of_final_roll', 'block', 'lot', 'easement',\n",
       "       'building_class_as_of_final_roll', 'address', 'apartment_number',\n",
       "       'zip_code', 'residential_units', 'commercial_units', 'total_units',\n",
       "       'land_square_feet', 'gross_square_feet', 'year_built',\n",
       "       'tax_class_at_time_of_sale', 'building_class_at_time_of_sale',\n",
       "       'sale_price', 'sale_date'],\n",
       "      dtype='object')"
      ]
     },
     "execution_count": 17,
     "metadata": {},
     "output_type": "execute_result"
    }
   ],
   "source": [
    "\"\"\"\n",
    "Updates columns names by stripping white spaces, makes all characters\n",
    "lower case and replacing and spaces with an underscore.\n",
    "\"\"\"\n",
    "\n",
    "sales_df.columns = sales_df.columns.str.strip().str.lower().str.replace(' ', '_')\n",
    "sales_df.columns"
   ]
  },
  {
   "cell_type": "code",
   "execution_count": 18,
   "metadata": {},
   "outputs": [
    {
     "data": {
      "text/plain": [
       "(1855333, 20)"
      ]
     },
     "execution_count": 18,
     "metadata": {},
     "output_type": "execute_result"
    }
   ],
   "source": [
    "#Drop columns with null values and/or duplicate\n",
    "sales_df.drop(['easement'], axis=1, inplace=True)\n",
    "sales_df.shape"
   ]
  },
  {
   "cell_type": "code",
   "execution_count": 19,
   "metadata": {},
   "outputs": [
    {
     "data": {
      "text/plain": [
       "(1176034, 20)"
      ]
     },
     "execution_count": 19,
     "metadata": {},
     "output_type": "execute_result"
    }
   ],
   "source": [
    "#Drop all property sales with a sale price under $125,000\n",
    "sales_df = sales_df[sales_df [\"sale_price\"] >= 125000.00]\n",
    "sales_df.shape"
   ]
  },
  {
   "cell_type": "code",
   "execution_count": 20,
   "metadata": {},
   "outputs": [
    {
     "name": "stdout",
     "output_type": "stream",
     "text": [
      "Number of unique neighborhood names before stripping: 513 \n",
      "Number of unique neighborhood names after stripping: 263 \n"
     ]
    }
   ],
   "source": [
    "#clean up neighborhoods names by stripping whitespace\n",
    "before_neighborhood_num = sales_df.neighborhood.nunique()\n",
    "\n",
    "sales_df.neighborhood = sales_df.neighborhood.apply(str.rstrip)\n",
    "\n",
    "after_neighborhood_num = sales_df.neighborhood.nunique()\n",
    "\n",
    "print(f\"Number of unique neighborhood names before stripping: {before_neighborhood_num} \")\n",
    "print(f\"Number of unique neighborhood names after stripping: {after_neighborhood_num} \")"
   ]
  },
  {
   "cell_type": "code",
   "execution_count": 21,
   "metadata": {},
   "outputs": [],
   "source": [
    "#Updating a neighborhood name that had incorrect value\n",
    "sales_df[\"neighborhood\"].replace('3004', 'BATH BEACH', inplace=True)"
   ]
  },
  {
   "cell_type": "code",
   "execution_count": 22,
   "metadata": {},
   "outputs": [],
   "source": [
    "#update year built of property address for accuracy\n",
    "sales_df.loc[sales_df.address == \"762 MARCY AVENUE, 1B\", 'year_built'] = 2017.0\n",
    "sales_df.loc[sales_df.address == \"762 MARCY AVENUE, 4\", 'year_built'] = 2017.0\n",
    "sales_df.loc[sales_df.address == \"9 BARTLETT AVENUE, 0\", 'year_built'] = 2019.0"
   ]
  },
  {
   "cell_type": "code",
   "execution_count": 23,
   "metadata": {},
   "outputs": [],
   "source": [
    "#Update zip code on property for accuracy \n",
    "sales_df.loc[sales_df.address == \"762 MARCY AVENUE, 1B\", 'zip_code'] = 11216.0\n",
    "sales_df.loc[sales_df.address == \"762 MARCY AVENUE, 4\", 'zip_code'] = 11216.0"
   ]
  },
  {
   "cell_type": "code",
   "execution_count": 24,
   "metadata": {},
   "outputs": [],
   "source": [
    "\"\"\"\n",
    "Split apartment number contained inside the address column\n",
    "and update the apartment_number column.\n",
    "\n",
    "Slice original dataframe to a another dataframe if the address\n",
    "value for a row contains a comma. Splits address value into two\n",
    "values if initial cell contained the column: one containing the\n",
    "property address and another containing apartment number.\n",
    "Apartment value then added to apartment_number column for row.\n",
    "\"\"\"\n",
    "\n",
    "df2 = sales_df[sales_df['address'].str.contains(\",\",na=False)]\n",
    "for index_label, row_series in df2.iterrows():\n",
    "    new_address, apt_num = row_series['address'].split(',', 1)\n",
    "    df2.at[index_label, 'address'] = new_address\n",
    "    df2.at[index_label, 'apartment_number'] = apt_num\n",
    "sales_df.update(df2)"
   ]
  },
  {
   "cell_type": "code",
   "execution_count": 25,
   "metadata": {},
   "outputs": [],
   "source": [
    "#removes all commas from cells in the apartment_number column\n",
    "sales_df[\"apartment_number\"] = sales_df[\"apartment_number\"].str.replace(',', '')"
   ]
  },
  {
   "cell_type": "code",
   "execution_count": 26,
   "metadata": {},
   "outputs": [],
   "source": [
    "#fill nans in sepecific columns\n",
    "\n",
    "sales_df.replace([np.inf, -np.inf], np.nan)\n",
    "fill_zero = {\"residential_units\":0.0, \"commercial_units\":0.0, \"total_units\":0.0,\\\n",
    "             \"land_square_feet\":0.0, \"gross_square_feet\":0.0, \"zip_code\": 0.0, \\\n",
    "             \"year_built\": 0.0, \"building_class_category\":\"0\"}\n",
    "sales_df.fillna(value=fill_zero, inplace=True)"
   ]
  },
  {
   "cell_type": "code",
   "execution_count": 27,
   "metadata": {},
   "outputs": [],
   "source": [
    "#update dtypes for several columns to minimize memory size\n",
    "\n",
    "sales_df[\"borough\"] = sales_df[\"borough\"].astype(\"int8\")\n",
    "sales_df[\"zip_code\"] = sales_df[\"zip_code\"].astype(\"int16\")\n",
    "sales_df[\"block\"] = sales_df[\"block\"].astype(\"int16\")\n",
    "sales_df[\"lot\"] = sales_df[\"lot\"].astype(\"int16\")\n",
    "sales_df[\"residential_units\"] = sales_df[\"residential_units\"].astype(\"int16\")\n",
    "sales_df[\"commercial_units\"] = sales_df[\"commercial_units\"].astype(\"int16\")\n",
    "sales_df[\"total_units\"] = sales_df[\"total_units\"].astype(\"int16\")\n",
    "sales_df[\"land_square_feet\"] = sales_df[\"land_square_feet\"].astype(\"int64\")\n",
    "sales_df[\"gross_square_feet\"] = sales_df[\"gross_square_feet\"].astype(\"int64\")\n",
    "sales_df[\"year_built\"] = sales_df[\"year_built\"].astype(\"int16\")\n",
    "sales_df[\"tax_class_at_time_of_sale\"] = sales_df[\"tax_class_at_time_of_sale\"].astype(\"int8\")\n",
    "sales_df[\"sale_price\"] = sales_df[\"sale_price\"].astype(\"float64\")\n",
    "sales_df[\"sale_date\"] = sales_df[\"sale_date\"].astype(\"datetime64[ns]\")"
   ]
  },
  {
   "cell_type": "code",
   "execution_count": 28,
   "metadata": {},
   "outputs": [
    {
     "name": "stdout",
     "output_type": "stream",
     "text": [
      "Number of unique building categories before stripping: 144 \n",
      "Number of unique building categories after stripping: 49 \n"
     ]
    }
   ],
   "source": [
    "\"\"\" \n",
    "Replaces double spaces with one space in strings and \n",
    "combines multiple names for the same category.\n",
    "\"\"\"\n",
    "before_category_num = sales_df.building_class_category.nunique()\n",
    "\n",
    "sales_df[\"building_class_category\"] = sales_df[\"building_class_category\"].apply(str.rstrip)\n",
    "\n",
    "sales_df[\"building_class_category\"] = sales_df[\"building_class_category\"].str.replace('  ',' ')\n",
    "\n",
    "replacement_values = {'01 ONE FAMILY DWELLINGS': '01 ONE FAMILY HOMES',\n",
    "                  '02 TWO FAMILY DWELLINGS': '02 TWO FAMILY HOMES',\n",
    "                  '03 THREE FAMILY DWELLINGS': '03 THREE FAMILY HOMES',\n",
    "                  '17 CONDOPS': '17 CONDO COOPS',\n",
    "                  '18 TAX CLASS 3 - UNTILITY PROPERTIES': '18 TAX CLASS 3 - UTILITY PROPERTIES'}\n",
    "\n",
    "sales_df[\"building_class_category\"] = sales_df[\"building_class_category\"].replace(replacement_values)\n",
    "\n",
    "after_category_num = sales_df.building_class_category.nunique()\n",
    "\n",
    "print(f\"Number of unique building categories before stripping: {before_category_num} \")\n",
    "print(f\"Number of unique building categories after stripping: {after_category_num} \")"
   ]
  },
  {
   "cell_type": "code",
   "execution_count": 29,
   "metadata": {},
   "outputs": [
    {
     "name": "stdout",
     "output_type": "stream",
     "text": [
      "['0' '01 ONE FAMILY HOMES' '02 TWO FAMILY HOMES' '03 THREE FAMILY HOMES'\n",
      " '04 TAX CLASS 1 CONDOS' '05 TAX CLASS 1 VACANT LAND'\n",
      " '06 TAX CLASS 1 - OTHER' '07 RENTALS - WALKUP APARTMENTS'\n",
      " '08 RENTALS - ELEVATOR APARTMENTS' '09 COOPS - WALKUP APARTMENTS'\n",
      " '10 COOPS - ELEVATOR APARTMENTS' '11 SPECIAL CONDO BILLING LOTS'\n",
      " '11A CONDO-RENTALS' '12 CONDOS - WALKUP APARTMENTS'\n",
      " '13 CONDOS - ELEVATOR APARTMENTS' '14 RENTALS - 4-10 UNIT'\n",
      " '15 CONDOS - 2-10 UNIT RESIDENTIAL'\n",
      " '16 CONDOS - 2-10 UNIT WITH COMMERCIAL UNIT' '17 CONDO COOPS'\n",
      " '18 TAX CLASS 3 - UTILITY PROPERTIES' '21 OFFICE BUILDINGS'\n",
      " '22 STORE BUILDINGS' '23 LOFT BUILDINGS'\n",
      " '24 TAX CLASS 4 - UTILITY BUREAU PROPERTIES' '25 LUXURY HOTELS'\n",
      " '26 OTHER HOTELS' '27 FACTORIES' '28 COMMERCIAL CONDOS'\n",
      " '29 COMMERCIAL GARAGES' '30 WAREHOUSES' '31 COMMERCIAL VACANT LAND'\n",
      " '32 HOSPITAL AND HEALTH FACILITIES' '33 EDUCATIONAL FACILITIES'\n",
      " '34 THEATRES' '35 INDOOR PUBLIC AND CULTURAL FACILITIES'\n",
      " '36 OUTDOOR RECREATIONAL FACILITIES' '37 RELIGIOUS FACILITIES'\n",
      " '38 ASYLUMS AND HOMES' '39 TRANSPORTATION FACILITIES'\n",
      " '40 SELECTED GOVERNMENTAL FACILITIES' '41 TAX CLASS 4 - OTHER'\n",
      " '42 CONDO CULTURAL/MEDICAL/EDUCATIONAL/ETC' '43 CONDO OFFICE BUILDINGS'\n",
      " '44 CONDO PARKING' '45 CONDO HOTELS' '46 CONDO STORE BUILDINGS'\n",
      " '47 CONDO NON-BUSINESS STORAGE' '48 CONDO TERRACES/GARDENS/CABANAS'\n",
      " '49 CONDO WAREHOUSES/FACTORY/INDUS']\n"
     ]
    }
   ],
   "source": [
    "b = sales_df[\"building_class_category\"].unique()\n",
    "b.sort()\n",
    "print(b)"
   ]
  },
  {
   "cell_type": "code",
   "execution_count": 30,
   "metadata": {},
   "outputs": [
    {
     "name": "stdout",
     "output_type": "stream",
     "text": [
      "<class 'pandas.core.frame.DataFrame'>\n",
      "Int64Index: 1176034 entries, 1 to 1855332\n",
      "Data columns (total 20 columns):\n",
      " #   Column                           Non-Null Count    Dtype         \n",
      "---  ------                           --------------    -----         \n",
      " 0   borough                          1176034 non-null  int8          \n",
      " 1   neighborhood                     1176034 non-null  object        \n",
      " 2   building_class_category          1176034 non-null  object        \n",
      " 3   tax_class_as_of_final_roll       1166004 non-null  object        \n",
      " 4   block                            1176034 non-null  int16         \n",
      " 5   lot                              1176034 non-null  int16         \n",
      " 6   building_class_as_of_final_roll  1166004 non-null  object        \n",
      " 7   address                          1176033 non-null  object        \n",
      " 8   apartment_number                 547930 non-null   object        \n",
      " 9   zip_code                         1176034 non-null  int16         \n",
      " 10  residential_units                1176034 non-null  int16         \n",
      " 11  commercial_units                 1176034 non-null  int16         \n",
      " 12  total_units                      1176034 non-null  int16         \n",
      " 13  land_square_feet                 1176034 non-null  int64         \n",
      " 14  gross_square_feet                1176034 non-null  int64         \n",
      " 15  year_built                       1176034 non-null  int16         \n",
      " 16  tax_class_at_time_of_sale        1176034 non-null  int8          \n",
      " 17  building_class_at_time_of_sale   1176034 non-null  object        \n",
      " 18  sale_price                       1176034 non-null  float64       \n",
      " 19  sale_date                        1176034 non-null  datetime64[ns]\n",
      "dtypes: datetime64[ns](1), float64(1), int16(7), int64(2), int8(2), object(7)\n",
      "memory usage: 583.5 MB\n"
     ]
    }
   ],
   "source": [
    "sales_df.info(memory_usage=\"deep\")"
   ]
  },
  {
   "cell_type": "code",
   "execution_count": 31,
   "metadata": {},
   "outputs": [
    {
     "data": {
      "text/html": [
       "<div>\n",
       "<style scoped>\n",
       "    .dataframe tbody tr th:only-of-type {\n",
       "        vertical-align: middle;\n",
       "    }\n",
       "\n",
       "    .dataframe tbody tr th {\n",
       "        vertical-align: top;\n",
       "    }\n",
       "\n",
       "    .dataframe thead th {\n",
       "        text-align: right;\n",
       "    }\n",
       "</style>\n",
       "<table border=\"1\" class=\"dataframe\">\n",
       "  <thead>\n",
       "    <tr style=\"text-align: right;\">\n",
       "      <th></th>\n",
       "      <th>borough</th>\n",
       "      <th>neighborhood</th>\n",
       "      <th>building_class_category</th>\n",
       "      <th>tax_class_as_of_final_roll</th>\n",
       "      <th>block</th>\n",
       "      <th>lot</th>\n",
       "      <th>building_class_as_of_final_roll</th>\n",
       "      <th>address</th>\n",
       "      <th>apartment_number</th>\n",
       "      <th>zip_code</th>\n",
       "      <th>residential_units</th>\n",
       "      <th>commercial_units</th>\n",
       "      <th>total_units</th>\n",
       "      <th>land_square_feet</th>\n",
       "      <th>gross_square_feet</th>\n",
       "      <th>year_built</th>\n",
       "      <th>tax_class_at_time_of_sale</th>\n",
       "      <th>building_class_at_time_of_sale</th>\n",
       "      <th>sale_price</th>\n",
       "      <th>sale_date</th>\n",
       "    </tr>\n",
       "  </thead>\n",
       "  <tbody>\n",
       "    <tr>\n",
       "      <th>1</th>\n",
       "      <td>2</td>\n",
       "      <td>BATHGATE</td>\n",
       "      <td>01 ONE FAMILY HOMES</td>\n",
       "      <td>1</td>\n",
       "      <td>3039</td>\n",
       "      <td>64</td>\n",
       "      <td>A1</td>\n",
       "      <td>467 EAST 185 STREET</td>\n",
       "      <td>NaN</td>\n",
       "      <td>10458</td>\n",
       "      <td>1</td>\n",
       "      <td>0</td>\n",
       "      <td>1</td>\n",
       "      <td>1667</td>\n",
       "      <td>1296</td>\n",
       "      <td>1910</td>\n",
       "      <td>1</td>\n",
       "      <td>A1</td>\n",
       "      <td>329000.0</td>\n",
       "      <td>2011-01-19</td>\n",
       "    </tr>\n",
       "    <tr>\n",
       "      <th>2</th>\n",
       "      <td>2</td>\n",
       "      <td>BATHGATE</td>\n",
       "      <td>01 ONE FAMILY HOMES</td>\n",
       "      <td>1</td>\n",
       "      <td>3046</td>\n",
       "      <td>34</td>\n",
       "      <td>A1</td>\n",
       "      <td>2085 BATHGATE AV</td>\n",
       "      <td>NaN</td>\n",
       "      <td>10457</td>\n",
       "      <td>1</td>\n",
       "      <td>0</td>\n",
       "      <td>1</td>\n",
       "      <td>2060</td>\n",
       "      <td>1629</td>\n",
       "      <td>1899</td>\n",
       "      <td>1</td>\n",
       "      <td>A1</td>\n",
       "      <td>288500.0</td>\n",
       "      <td>2011-06-29</td>\n",
       "    </tr>\n",
       "    <tr>\n",
       "      <th>5</th>\n",
       "      <td>2</td>\n",
       "      <td>BATHGATE</td>\n",
       "      <td>02 TWO FAMILY HOMES</td>\n",
       "      <td>1</td>\n",
       "      <td>2929</td>\n",
       "      <td>128</td>\n",
       "      <td>B1</td>\n",
       "      <td>559 CLAREMONT PARKWAY</td>\n",
       "      <td>NaN</td>\n",
       "      <td>10457</td>\n",
       "      <td>2</td>\n",
       "      <td>0</td>\n",
       "      <td>2</td>\n",
       "      <td>2361</td>\n",
       "      <td>2394</td>\n",
       "      <td>1995</td>\n",
       "      <td>1</td>\n",
       "      <td>B1</td>\n",
       "      <td>365000.0</td>\n",
       "      <td>2011-07-13</td>\n",
       "    </tr>\n",
       "    <tr>\n",
       "      <th>6</th>\n",
       "      <td>2</td>\n",
       "      <td>BATHGATE</td>\n",
       "      <td>02 TWO FAMILY HOMES</td>\n",
       "      <td>1</td>\n",
       "      <td>3030</td>\n",
       "      <td>76</td>\n",
       "      <td>B2</td>\n",
       "      <td>4435 PARK AVENUE</td>\n",
       "      <td>NaN</td>\n",
       "      <td>10457</td>\n",
       "      <td>2</td>\n",
       "      <td>0</td>\n",
       "      <td>2</td>\n",
       "      <td>2444</td>\n",
       "      <td>2125</td>\n",
       "      <td>1899</td>\n",
       "      <td>1</td>\n",
       "      <td>B2</td>\n",
       "      <td>375000.0</td>\n",
       "      <td>2011-05-18</td>\n",
       "    </tr>\n",
       "    <tr>\n",
       "      <th>8</th>\n",
       "      <td>2</td>\n",
       "      <td>BATHGATE</td>\n",
       "      <td>02 TWO FAMILY HOMES</td>\n",
       "      <td>1</td>\n",
       "      <td>3036</td>\n",
       "      <td>43</td>\n",
       "      <td>B1</td>\n",
       "      <td>2057 WASHINGTON AVENUE</td>\n",
       "      <td>NaN</td>\n",
       "      <td>10457</td>\n",
       "      <td>2</td>\n",
       "      <td>0</td>\n",
       "      <td>2</td>\n",
       "      <td>3323</td>\n",
       "      <td>3438</td>\n",
       "      <td>1997</td>\n",
       "      <td>1</td>\n",
       "      <td>B1</td>\n",
       "      <td>360000.0</td>\n",
       "      <td>2011-06-29</td>\n",
       "    </tr>\n",
       "  </tbody>\n",
       "</table>\n",
       "</div>"
      ],
      "text/plain": [
       "   borough neighborhood building_class_category tax_class_as_of_final_roll  \\\n",
       "1        2     BATHGATE     01 ONE FAMILY HOMES                          1   \n",
       "2        2     BATHGATE     01 ONE FAMILY HOMES                          1   \n",
       "5        2     BATHGATE     02 TWO FAMILY HOMES                          1   \n",
       "6        2     BATHGATE     02 TWO FAMILY HOMES                          1   \n",
       "8        2     BATHGATE     02 TWO FAMILY HOMES                          1   \n",
       "\n",
       "   block  lot building_class_as_of_final_roll  \\\n",
       "1   3039   64                              A1   \n",
       "2   3046   34                              A1   \n",
       "5   2929  128                              B1   \n",
       "6   3030   76                              B2   \n",
       "8   3036   43                              B1   \n",
       "\n",
       "                                     address apartment_number  zip_code  \\\n",
       "1  467 EAST 185 STREET                                    NaN     10458   \n",
       "2  2085 BATHGATE AV                                       NaN     10457   \n",
       "5  559 CLAREMONT PARKWAY                                  NaN     10457   \n",
       "6  4435 PARK AVENUE                                       NaN     10457   \n",
       "8  2057 WASHINGTON AVENUE                                 NaN     10457   \n",
       "\n",
       "   residential_units  commercial_units  total_units  land_square_feet  \\\n",
       "1                  1                 0            1              1667   \n",
       "2                  1                 0            1              2060   \n",
       "5                  2                 0            2              2361   \n",
       "6                  2                 0            2              2444   \n",
       "8                  2                 0            2              3323   \n",
       "\n",
       "   gross_square_feet  year_built  tax_class_at_time_of_sale  \\\n",
       "1               1296        1910                          1   \n",
       "2               1629        1899                          1   \n",
       "5               2394        1995                          1   \n",
       "6               2125        1899                          1   \n",
       "8               3438        1997                          1   \n",
       "\n",
       "  building_class_at_time_of_sale  sale_price  sale_date  \n",
       "1                             A1    329000.0 2011-01-19  \n",
       "2                             A1    288500.0 2011-06-29  \n",
       "5                             B1    365000.0 2011-07-13  \n",
       "6                             B2    375000.0 2011-05-18  \n",
       "8                             B1    360000.0 2011-06-29  "
      ]
     },
     "execution_count": 31,
     "metadata": {},
     "output_type": "execute_result"
    }
   ],
   "source": [
    "sales_df.head(5)"
   ]
  },
  {
   "cell_type": "code",
   "execution_count": 50,
   "metadata": {},
   "outputs": [
    {
     "name": "stdout",
     "output_type": "stream",
     "text": [
      "(70076, 21)\n",
      "(81294, 21)\n",
      "(81557, 21)\n",
      "(75716, 21)\n",
      "(70001, 21)\n",
      "(55151, 21)\n",
      "(42821, 21)\n",
      "(39784, 21)\n",
      "(43819, 21)\n",
      "(47949, 21)\n",
      "(55218, 21)\n",
      "(55502, 21)\n",
      "(57839, 21)\n",
      "(57075, 21)\n",
      "(58986, 21)\n",
      "(55421, 21)\n",
      "(54803, 21)\n",
      "(42867, 21)\n",
      "(69806, 21)\n",
      "(54112, 21)\n"
     ]
    }
   ],
   "source": [
    "# Write dataframe to csv by sale data year\n",
    "\n",
    "list_of_years = range(2003, 2023)\n",
    "\n",
    "sales_df['sale_date'] = pd.to_datetime(sales_df['sale_date'])\n",
    "sales_df['year'] = sales_df['sale_date'].dt.strftime('%Y')\n",
    "\n",
    "for each_year in list_of_years:\n",
    "    temp_df = sales_df[sales_df.year == str(each_year)]\n",
    "    temp_df.to_csv((str(production_path) + \"/\" + f\"{each_year}_cleaned_125k+_sales.csv\"), index=False, header=True)\n"
   ]
  },
  {
   "cell_type": "code",
   "execution_count": null,
   "metadata": {},
   "outputs": [],
   "source": []
  }
 ],
 "metadata": {
  "kernelspec": {
   "display_name": "salesenv",
   "language": "python",
   "name": "salesenv"
  },
  "language_info": {
   "codemirror_mode": {
    "name": "ipython",
    "version": 3
   },
   "file_extension": ".py",
   "mimetype": "text/x-python",
   "name": "python",
   "nbconvert_exporter": "python",
   "pygments_lexer": "ipython3",
   "version": "3.7.8"
  }
 },
 "nbformat": 4,
 "nbformat_minor": 2
}
